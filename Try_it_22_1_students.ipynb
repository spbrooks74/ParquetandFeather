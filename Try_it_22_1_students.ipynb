{
 "cells": [
  {
   "cell_type": "markdown",
   "id": "b03a155a",
   "metadata": {},
   "source": [
    "# Try It Activity 22.1: Reading Big Data\n",
    "\n",
    "### Learning Outcome Addressed:\n",
    "\n",
    "- 1. Compare applications of the Parquet and Feather formats to reading and writing big data.\n",
    "\n",
    "## Try It Activity Overview:\n",
    "\n",
    "In this Try It activity, you will be challenged to compare the reading and writing performances of the Apache Parquet and Feather formats on a *dataframe* with 2,000,000 rows."
   ]
  },
  {
   "cell_type": "markdown",
   "id": "caac9fc6",
   "metadata": {},
   "source": [
    "## Part 1: Initializing the *Dataframe*\n",
    "\n",
    "In the first part of this activity, you will create a toy *dataframe* titled `df` with 2,000,000 rows and 10 columns named from `A` to `J`. The first five columns will contain a random floating point number. The sixth and seventh columns will contain a random integer number between 0 and 10. The eighth and ninth columns will contain a random number between 0 and 1. Finally, the last column will contain a random Latin word from the `sentence` *module* in the `lorem` *library*.\n",
    "\n",
    "Run the code cell below to create the `df` *dataframe*."
   ]
  },
  {
   "cell_type": "code",
   "execution_count": 2,
   "id": "8e29c8a4",
   "metadata": {},
   "outputs": [
    {
     "name": "stderr",
     "output_type": "stream",
     "text": [
      "C:\\Users\\spbro\\AppData\\Local\\Temp\\ipykernel_24292\\1790534582.py:16: FutureWarning: ChainedAssignmentError: behaviour will change in pandas 3.0!\n",
      "You are setting values through chained assignment. Currently this works in certain cases, but when using Copy-on-Write (which will become the default behaviour in pandas 3.0) this will never work to update the original DataFrame or Series, because the intermediate object on which we are setting values will behave as a copy.\n",
      "A typical example is when you are setting values in a column of a DataFrame, like:\n",
      "\n",
      "df[\"col\"][row_indexer] = value\n",
      "\n",
      "Use `df.loc[row_indexer, \"col\"] = values` instead, to perform the assignment in a single step and ensure this keeps updating the original `df`.\n",
      "\n",
      "See the caveats in the documentation: https://pandas.pydata.org/pandas-docs/stable/user_guide/indexing.html#returning-a-view-versus-a-copy\n",
      "\n",
      "  df[\"A\"][::10] = np.nan\n"
     ]
    }
   ],
   "source": [
    "import numpy as np\n",
    "import pandas as pd\n",
    "from lorem import sentence\n",
    "\n",
    "words = np.array(sentence().strip().lower().replace(\".\", \" \").split())\n",
    "\n",
    "# Set the seed so that the numbers can be reproduced.\n",
    "np.random.seed(0)  \n",
    "n = 2000000\n",
    "df = pd.DataFrame(np.c_[np.random.randn(n, 5),\n",
    "                  np.random.randint(0,10,(n, 2)),\n",
    "                  np.random.randint(0,1,(n, 2)),\n",
    "np.array([np.random.choice(words) for i in range(n)])] , \n",
    "columns=list('ABCDEFGHIJ'))\n",
    "\n",
    "df[\"A\"][::10] = np.nan"
   ]
  },
  {
   "cell_type": "markdown",
   "id": "e2702b50",
   "metadata": {},
   "source": [
    "Run the code cell below to visualize the first five rows in the `df` *dataframe*."
   ]
  },
  {
   "cell_type": "code",
   "execution_count": 3,
   "id": "703e1cf4",
   "metadata": {},
   "outputs": [
    {
     "data": {
      "text/html": [
       "<div>\n",
       "<style scoped>\n",
       "    .dataframe tbody tr th:only-of-type {\n",
       "        vertical-align: middle;\n",
       "    }\n",
       "\n",
       "    .dataframe tbody tr th {\n",
       "        vertical-align: top;\n",
       "    }\n",
       "\n",
       "    .dataframe thead th {\n",
       "        text-align: right;\n",
       "    }\n",
       "</style>\n",
       "<table border=\"1\" class=\"dataframe\">\n",
       "  <thead>\n",
       "    <tr style=\"text-align: right;\">\n",
       "      <th></th>\n",
       "      <th>A</th>\n",
       "      <th>B</th>\n",
       "      <th>C</th>\n",
       "      <th>D</th>\n",
       "      <th>E</th>\n",
       "      <th>F</th>\n",
       "      <th>G</th>\n",
       "      <th>H</th>\n",
       "      <th>I</th>\n",
       "      <th>J</th>\n",
       "    </tr>\n",
       "  </thead>\n",
       "  <tbody>\n",
       "    <tr>\n",
       "      <th>0</th>\n",
       "      <td>NaN</td>\n",
       "      <td>0.4001572083672233</td>\n",
       "      <td>0.9787379841057392</td>\n",
       "      <td>2.240893199201458</td>\n",
       "      <td>1.8675579901499675</td>\n",
       "      <td>9</td>\n",
       "      <td>1</td>\n",
       "      <td>0</td>\n",
       "      <td>0</td>\n",
       "      <td>sit</td>\n",
       "    </tr>\n",
       "    <tr>\n",
       "      <th>1</th>\n",
       "      <td>-0.977277879876411</td>\n",
       "      <td>0.9500884175255894</td>\n",
       "      <td>-0.1513572082976979</td>\n",
       "      <td>-0.10321885179355784</td>\n",
       "      <td>0.41059850193837233</td>\n",
       "      <td>0</td>\n",
       "      <td>3</td>\n",
       "      <td>0</td>\n",
       "      <td>0</td>\n",
       "      <td>voluptatem</td>\n",
       "    </tr>\n",
       "    <tr>\n",
       "      <th>2</th>\n",
       "      <td>0.144043571160878</td>\n",
       "      <td>1.454273506962975</td>\n",
       "      <td>0.7610377251469934</td>\n",
       "      <td>0.12167501649282841</td>\n",
       "      <td>0.44386323274542566</td>\n",
       "      <td>4</td>\n",
       "      <td>9</td>\n",
       "      <td>0</td>\n",
       "      <td>0</td>\n",
       "      <td>ut</td>\n",
       "    </tr>\n",
       "    <tr>\n",
       "      <th>3</th>\n",
       "      <td>0.33367432737426683</td>\n",
       "      <td>1.4940790731576061</td>\n",
       "      <td>-0.20515826376580087</td>\n",
       "      <td>0.31306770165090136</td>\n",
       "      <td>-0.8540957393017248</td>\n",
       "      <td>3</td>\n",
       "      <td>4</td>\n",
       "      <td>0</td>\n",
       "      <td>0</td>\n",
       "      <td>non</td>\n",
       "    </tr>\n",
       "    <tr>\n",
       "      <th>4</th>\n",
       "      <td>-2.5529898158340787</td>\n",
       "      <td>0.6536185954403606</td>\n",
       "      <td>0.8644361988595057</td>\n",
       "      <td>-0.7421650204064419</td>\n",
       "      <td>2.2697546239876076</td>\n",
       "      <td>6</td>\n",
       "      <td>4</td>\n",
       "      <td>0</td>\n",
       "      <td>0</td>\n",
       "      <td>ut</td>\n",
       "    </tr>\n",
       "  </tbody>\n",
       "</table>\n",
       "</div>"
      ],
      "text/plain": [
       "                     A                   B                     C  \\\n",
       "0                  NaN  0.4001572083672233    0.9787379841057392   \n",
       "1   -0.977277879876411  0.9500884175255894   -0.1513572082976979   \n",
       "2    0.144043571160878   1.454273506962975    0.7610377251469934   \n",
       "3  0.33367432737426683  1.4940790731576061  -0.20515826376580087   \n",
       "4  -2.5529898158340787  0.6536185954403606    0.8644361988595057   \n",
       "\n",
       "                      D                    E  F  G  H  I           J  \n",
       "0     2.240893199201458   1.8675579901499675  9  1  0  0         sit  \n",
       "1  -0.10321885179355784  0.41059850193837233  0  3  0  0  voluptatem  \n",
       "2   0.12167501649282841  0.44386323274542566  4  9  0  0          ut  \n",
       "3   0.31306770165090136  -0.8540957393017248  3  4  0  0         non  \n",
       "4   -0.7421650204064419   2.2697546239876076  6  4  0  0          ut  "
      ]
     },
     "execution_count": 3,
     "metadata": {},
     "output_type": "execute_result"
    }
   ],
   "source": [
    "df.head()"
   ]
  },
  {
   "cell_type": "markdown",
   "id": "08f50715",
   "metadata": {},
   "source": [
    "## Part 2: Writing to the Parquet and Feather Formats\n",
    "\n",
    "Now it's time for you to write the data in the `df` *dataframe* to the Parquet and Feather formats and compare the performances.\n",
    "\n",
    "**NOTE:** In the code cell below, the `%%time` *function* is called to calculate how long it takes to the code to execute.\n",
    "\n",
    "### Question 1\n",
    "\n",
    "Complete the code in the code cell below to write the data in the `df` *dataframe* to Parquet format. Name the file that will contain the `df.parquet` data."
   ]
  },
  {
   "cell_type": "code",
   "execution_count": 4,
   "id": "9af33bfb",
   "metadata": {},
   "outputs": [
    {
     "name": "stdout",
     "output_type": "stream",
     "text": [
      "CPU times: total: 78.1 ms\n",
      "Wall time: 2.59 s\n"
     ]
    }
   ],
   "source": [
    "%%time\n",
    "\n",
    "df.to_parquet('df.parquet')"
   ]
  },
  {
   "cell_type": "markdown",
   "id": "628c755e",
   "metadata": {},
   "source": [
    "### Question 2\n",
    "\n",
    "Complete the code in the code cell below to write the data in the `df` *dataframe* to Feather format. Name the file that will contain the `df.ftr` data."
   ]
  },
  {
   "cell_type": "code",
   "execution_count": 5,
   "id": "d30c25b9",
   "metadata": {},
   "outputs": [
    {
     "name": "stdout",
     "output_type": "stream",
     "text": [
      "CPU times: total: 500 ms\n",
      "Wall time: 1.25 s\n"
     ]
    }
   ],
   "source": [
    "%%time\n",
    "\n",
    "#complete the code below\n",
    "df.to_feather('df.ftr')"
   ]
  },
  {
   "cell_type": "markdown",
   "id": "ffbb665b",
   "metadata": {},
   "source": [
    "## Part 3: Reading the Parquet and Feather Formats\n",
    "\n",
    "Finally, it's time for you to read the data stored in the Parquet and Feather formats and compare the performances.\n",
    "\n",
    "### Question 3\n",
    "\n",
    "Complete the code in the code cell below to read the data that you stored in Parquet format in Part 2. Assign the new *dataframe* to the `df_parquet` variable."
   ]
  },
  {
   "cell_type": "code",
   "execution_count": 6,
   "id": "00484e84",
   "metadata": {},
   "outputs": [
    {
     "name": "stdout",
     "output_type": "stream",
     "text": [
      "CPU times: total: 1.36 s\n",
      "Wall time: 3.61 s\n"
     ]
    }
   ],
   "source": [
    "%%time\n",
    "\n",
    "#complete the code below\n",
    "df_parquet = pd.read_parquet('df.parquet')"
   ]
  },
  {
   "cell_type": "markdown",
   "id": "a9f1ca70",
   "metadata": {},
   "source": [
    "### Question 4\n",
    "\n",
    "Complete the code in the code cell below to read the data that you stored in Feather format in Part 2. Assign the new *dataframe* to the `df_feather` variable."
   ]
  },
  {
   "cell_type": "code",
   "execution_count": 7,
   "id": "78e37e2a",
   "metadata": {},
   "outputs": [
    {
     "name": "stdout",
     "output_type": "stream",
     "text": [
      "CPU times: total: 1.5 s\n",
      "Wall time: 3.19 s\n"
     ]
    }
   ],
   "source": [
    "%%time \n",
    "\n",
    "#complete the code below\n",
    "df_feather = pd.read_feather('df.ftr')"
   ]
  },
  {
   "cell_type": "code",
   "execution_count": 8,
   "id": "fe693185",
   "metadata": {},
   "outputs": [
    {
     "name": "stdout",
     "output_type": "stream",
     "text": [
      "CPU times: total: 1.86 s\n",
      "Wall time: 49.2 s\n"
     ]
    }
   ],
   "source": [
    "%%time \n",
    "df = pd.read_csv('test.csv')\n"
   ]
  },
  {
   "cell_type": "code",
   "execution_count": 10,
   "id": "eb0fab49",
   "metadata": {},
   "outputs": [
    {
     "data": {
      "text/html": [
       "<div>\n",
       "<style scoped>\n",
       "    .dataframe tbody tr th:only-of-type {\n",
       "        vertical-align: middle;\n",
       "    }\n",
       "\n",
       "    .dataframe tbody tr th {\n",
       "        vertical-align: top;\n",
       "    }\n",
       "\n",
       "    .dataframe thead th {\n",
       "        text-align: right;\n",
       "    }\n",
       "</style>\n",
       "<table border=\"1\" class=\"dataframe\">\n",
       "  <thead>\n",
       "    <tr style=\"text-align: right;\">\n",
       "      <th></th>\n",
       "      <th>state_t_0</th>\n",
       "      <th>state_t_1</th>\n",
       "      <th>state_t_2</th>\n",
       "      <th>state_t_3</th>\n",
       "      <th>state_t_4</th>\n",
       "      <th>state_t_5</th>\n",
       "      <th>state_t_6</th>\n",
       "      <th>state_t_7</th>\n",
       "      <th>state_t_8</th>\n",
       "      <th>state_t_9</th>\n",
       "      <th>...</th>\n",
       "      <th>pbuf_N2O_50</th>\n",
       "      <th>pbuf_N2O_51</th>\n",
       "      <th>pbuf_N2O_52</th>\n",
       "      <th>pbuf_N2O_53</th>\n",
       "      <th>pbuf_N2O_54</th>\n",
       "      <th>pbuf_N2O_55</th>\n",
       "      <th>pbuf_N2O_56</th>\n",
       "      <th>pbuf_N2O_57</th>\n",
       "      <th>pbuf_N2O_58</th>\n",
       "      <th>pbuf_N2O_59</th>\n",
       "    </tr>\n",
       "  </thead>\n",
       "  <tbody>\n",
       "    <tr>\n",
       "      <th>count</th>\n",
       "      <td>625000.000000</td>\n",
       "      <td>625000.000000</td>\n",
       "      <td>625000.000000</td>\n",
       "      <td>625000.000000</td>\n",
       "      <td>625000.000000</td>\n",
       "      <td>625000.000000</td>\n",
       "      <td>625000.000000</td>\n",
       "      <td>625000.000000</td>\n",
       "      <td>625000.000000</td>\n",
       "      <td>625000.000000</td>\n",
       "      <td>...</td>\n",
       "      <td>6.250000e+05</td>\n",
       "      <td>6.250000e+05</td>\n",
       "      <td>6.250000e+05</td>\n",
       "      <td>6.250000e+05</td>\n",
       "      <td>6.250000e+05</td>\n",
       "      <td>6.250000e+05</td>\n",
       "      <td>6.250000e+05</td>\n",
       "      <td>6.250000e+05</td>\n",
       "      <td>6.250000e+05</td>\n",
       "      <td>6.250000e+05</td>\n",
       "    </tr>\n",
       "    <tr>\n",
       "      <th>mean</th>\n",
       "      <td>215.089141</td>\n",
       "      <td>227.346503</td>\n",
       "      <td>236.917387</td>\n",
       "      <td>247.480684</td>\n",
       "      <td>255.809645</td>\n",
       "      <td>259.072502</td>\n",
       "      <td>254.905411</td>\n",
       "      <td>246.312739</td>\n",
       "      <td>236.591033</td>\n",
       "      <td>229.931538</td>\n",
       "      <td>...</td>\n",
       "      <td>4.908584e-07</td>\n",
       "      <td>4.908584e-07</td>\n",
       "      <td>4.908584e-07</td>\n",
       "      <td>4.908584e-07</td>\n",
       "      <td>4.908584e-07</td>\n",
       "      <td>4.908584e-07</td>\n",
       "      <td>4.908584e-07</td>\n",
       "      <td>4.908584e-07</td>\n",
       "      <td>4.908584e-07</td>\n",
       "      <td>4.908584e-07</td>\n",
       "    </tr>\n",
       "    <tr>\n",
       "      <th>std</th>\n",
       "      <td>6.499149</td>\n",
       "      <td>8.515656</td>\n",
       "      <td>8.166613</td>\n",
       "      <td>6.758981</td>\n",
       "      <td>6.249626</td>\n",
       "      <td>8.256625</td>\n",
       "      <td>10.170950</td>\n",
       "      <td>10.129800</td>\n",
       "      <td>9.247245</td>\n",
       "      <td>8.852259</td>\n",
       "      <td>...</td>\n",
       "      <td>9.529128e-22</td>\n",
       "      <td>9.529128e-22</td>\n",
       "      <td>9.529128e-22</td>\n",
       "      <td>9.529128e-22</td>\n",
       "      <td>9.529128e-22</td>\n",
       "      <td>9.529128e-22</td>\n",
       "      <td>9.529128e-22</td>\n",
       "      <td>9.529128e-22</td>\n",
       "      <td>9.529128e-22</td>\n",
       "      <td>9.529128e-22</td>\n",
       "    </tr>\n",
       "    <tr>\n",
       "      <th>min</th>\n",
       "      <td>104.073069</td>\n",
       "      <td>113.643973</td>\n",
       "      <td>162.428293</td>\n",
       "      <td>197.136165</td>\n",
       "      <td>212.279452</td>\n",
       "      <td>207.193173</td>\n",
       "      <td>202.167878</td>\n",
       "      <td>193.851999</td>\n",
       "      <td>186.258390</td>\n",
       "      <td>179.937951</td>\n",
       "      <td>...</td>\n",
       "      <td>4.908584e-07</td>\n",
       "      <td>4.908584e-07</td>\n",
       "      <td>4.908584e-07</td>\n",
       "      <td>4.908584e-07</td>\n",
       "      <td>4.908584e-07</td>\n",
       "      <td>4.908584e-07</td>\n",
       "      <td>4.908584e-07</td>\n",
       "      <td>4.908584e-07</td>\n",
       "      <td>4.908584e-07</td>\n",
       "      <td>4.908584e-07</td>\n",
       "    </tr>\n",
       "    <tr>\n",
       "      <th>25%</th>\n",
       "      <td>211.363772</td>\n",
       "      <td>221.757929</td>\n",
       "      <td>231.442675</td>\n",
       "      <td>243.308121</td>\n",
       "      <td>252.363872</td>\n",
       "      <td>255.898646</td>\n",
       "      <td>251.412886</td>\n",
       "      <td>243.275676</td>\n",
       "      <td>234.308859</td>\n",
       "      <td>227.984934</td>\n",
       "      <td>...</td>\n",
       "      <td>4.908584e-07</td>\n",
       "      <td>4.908584e-07</td>\n",
       "      <td>4.908584e-07</td>\n",
       "      <td>4.908584e-07</td>\n",
       "      <td>4.908584e-07</td>\n",
       "      <td>4.908584e-07</td>\n",
       "      <td>4.908584e-07</td>\n",
       "      <td>4.908584e-07</td>\n",
       "      <td>4.908584e-07</td>\n",
       "      <td>4.908584e-07</td>\n",
       "    </tr>\n",
       "    <tr>\n",
       "      <th>50%</th>\n",
       "      <td>215.024961</td>\n",
       "      <td>227.491640</td>\n",
       "      <td>236.114539</td>\n",
       "      <td>246.611290</td>\n",
       "      <td>255.458806</td>\n",
       "      <td>259.961440</td>\n",
       "      <td>256.866849</td>\n",
       "      <td>248.499919</td>\n",
       "      <td>238.773297</td>\n",
       "      <td>232.231037</td>\n",
       "      <td>...</td>\n",
       "      <td>4.908584e-07</td>\n",
       "      <td>4.908584e-07</td>\n",
       "      <td>4.908584e-07</td>\n",
       "      <td>4.908584e-07</td>\n",
       "      <td>4.908584e-07</td>\n",
       "      <td>4.908584e-07</td>\n",
       "      <td>4.908584e-07</td>\n",
       "      <td>4.908584e-07</td>\n",
       "      <td>4.908584e-07</td>\n",
       "      <td>4.908584e-07</td>\n",
       "    </tr>\n",
       "    <tr>\n",
       "      <th>75%</th>\n",
       "      <td>218.623261</td>\n",
       "      <td>233.179934</td>\n",
       "      <td>241.529654</td>\n",
       "      <td>250.602926</td>\n",
       "      <td>258.847718</td>\n",
       "      <td>263.520709</td>\n",
       "      <td>260.731315</td>\n",
       "      <td>251.905662</td>\n",
       "      <td>241.522953</td>\n",
       "      <td>234.671088</td>\n",
       "      <td>...</td>\n",
       "      <td>4.908584e-07</td>\n",
       "      <td>4.908584e-07</td>\n",
       "      <td>4.908584e-07</td>\n",
       "      <td>4.908584e-07</td>\n",
       "      <td>4.908584e-07</td>\n",
       "      <td>4.908584e-07</td>\n",
       "      <td>4.908584e-07</td>\n",
       "      <td>4.908584e-07</td>\n",
       "      <td>4.908584e-07</td>\n",
       "      <td>4.908584e-07</td>\n",
       "    </tr>\n",
       "    <tr>\n",
       "      <th>max</th>\n",
       "      <td>471.370661</td>\n",
       "      <td>286.831011</td>\n",
       "      <td>288.354003</td>\n",
       "      <td>302.041505</td>\n",
       "      <td>303.931103</td>\n",
       "      <td>292.724662</td>\n",
       "      <td>289.243436</td>\n",
       "      <td>280.800900</td>\n",
       "      <td>267.413303</td>\n",
       "      <td>256.701526</td>\n",
       "      <td>...</td>\n",
       "      <td>4.908584e-07</td>\n",
       "      <td>4.908584e-07</td>\n",
       "      <td>4.908584e-07</td>\n",
       "      <td>4.908584e-07</td>\n",
       "      <td>4.908584e-07</td>\n",
       "      <td>4.908584e-07</td>\n",
       "      <td>4.908584e-07</td>\n",
       "      <td>4.908584e-07</td>\n",
       "      <td>4.908584e-07</td>\n",
       "      <td>4.908584e-07</td>\n",
       "    </tr>\n",
       "  </tbody>\n",
       "</table>\n",
       "<p>8 rows × 556 columns</p>\n",
       "</div>"
      ],
      "text/plain": [
       "           state_t_0      state_t_1      state_t_2      state_t_3  \\\n",
       "count  625000.000000  625000.000000  625000.000000  625000.000000   \n",
       "mean      215.089141     227.346503     236.917387     247.480684   \n",
       "std         6.499149       8.515656       8.166613       6.758981   \n",
       "min       104.073069     113.643973     162.428293     197.136165   \n",
       "25%       211.363772     221.757929     231.442675     243.308121   \n",
       "50%       215.024961     227.491640     236.114539     246.611290   \n",
       "75%       218.623261     233.179934     241.529654     250.602926   \n",
       "max       471.370661     286.831011     288.354003     302.041505   \n",
       "\n",
       "           state_t_4      state_t_5      state_t_6      state_t_7  \\\n",
       "count  625000.000000  625000.000000  625000.000000  625000.000000   \n",
       "mean      255.809645     259.072502     254.905411     246.312739   \n",
       "std         6.249626       8.256625      10.170950      10.129800   \n",
       "min       212.279452     207.193173     202.167878     193.851999   \n",
       "25%       252.363872     255.898646     251.412886     243.275676   \n",
       "50%       255.458806     259.961440     256.866849     248.499919   \n",
       "75%       258.847718     263.520709     260.731315     251.905662   \n",
       "max       303.931103     292.724662     289.243436     280.800900   \n",
       "\n",
       "           state_t_8      state_t_9  ...   pbuf_N2O_50   pbuf_N2O_51  \\\n",
       "count  625000.000000  625000.000000  ...  6.250000e+05  6.250000e+05   \n",
       "mean      236.591033     229.931538  ...  4.908584e-07  4.908584e-07   \n",
       "std         9.247245       8.852259  ...  9.529128e-22  9.529128e-22   \n",
       "min       186.258390     179.937951  ...  4.908584e-07  4.908584e-07   \n",
       "25%       234.308859     227.984934  ...  4.908584e-07  4.908584e-07   \n",
       "50%       238.773297     232.231037  ...  4.908584e-07  4.908584e-07   \n",
       "75%       241.522953     234.671088  ...  4.908584e-07  4.908584e-07   \n",
       "max       267.413303     256.701526  ...  4.908584e-07  4.908584e-07   \n",
       "\n",
       "        pbuf_N2O_52   pbuf_N2O_53   pbuf_N2O_54   pbuf_N2O_55   pbuf_N2O_56  \\\n",
       "count  6.250000e+05  6.250000e+05  6.250000e+05  6.250000e+05  6.250000e+05   \n",
       "mean   4.908584e-07  4.908584e-07  4.908584e-07  4.908584e-07  4.908584e-07   \n",
       "std    9.529128e-22  9.529128e-22  9.529128e-22  9.529128e-22  9.529128e-22   \n",
       "min    4.908584e-07  4.908584e-07  4.908584e-07  4.908584e-07  4.908584e-07   \n",
       "25%    4.908584e-07  4.908584e-07  4.908584e-07  4.908584e-07  4.908584e-07   \n",
       "50%    4.908584e-07  4.908584e-07  4.908584e-07  4.908584e-07  4.908584e-07   \n",
       "75%    4.908584e-07  4.908584e-07  4.908584e-07  4.908584e-07  4.908584e-07   \n",
       "max    4.908584e-07  4.908584e-07  4.908584e-07  4.908584e-07  4.908584e-07   \n",
       "\n",
       "        pbuf_N2O_57   pbuf_N2O_58   pbuf_N2O_59  \n",
       "count  6.250000e+05  6.250000e+05  6.250000e+05  \n",
       "mean   4.908584e-07  4.908584e-07  4.908584e-07  \n",
       "std    9.529128e-22  9.529128e-22  9.529128e-22  \n",
       "min    4.908584e-07  4.908584e-07  4.908584e-07  \n",
       "25%    4.908584e-07  4.908584e-07  4.908584e-07  \n",
       "50%    4.908584e-07  4.908584e-07  4.908584e-07  \n",
       "75%    4.908584e-07  4.908584e-07  4.908584e-07  \n",
       "max    4.908584e-07  4.908584e-07  4.908584e-07  \n",
       "\n",
       "[8 rows x 556 columns]"
      ]
     },
     "execution_count": 10,
     "metadata": {},
     "output_type": "execute_result"
    }
   ],
   "source": [
    "df.describe()"
   ]
  },
  {
   "cell_type": "code",
   "execution_count": 9,
   "id": "f1b1c2cd",
   "metadata": {},
   "outputs": [
    {
     "name": "stdout",
     "output_type": "stream",
     "text": [
      "CPU times: total: 2.47 s\n",
      "Wall time: 10.3 s\n"
     ]
    }
   ],
   "source": [
    "%%time \n",
    "df.to_parquet('df.parquet')"
   ]
  },
  {
   "cell_type": "code",
   "execution_count": 11,
   "id": "2d38cc5a",
   "metadata": {},
   "outputs": [
    {
     "name": "stdout",
     "output_type": "stream",
     "text": [
      "CPU times: total: 2.38 s\n",
      "Wall time: 1.63 s\n"
     ]
    }
   ],
   "source": [
    "%%time \n",
    "df.to_feather('df.ftr')"
   ]
  },
  {
   "cell_type": "code",
   "execution_count": 12,
   "id": "ab805949",
   "metadata": {},
   "outputs": [
    {
     "name": "stdout",
     "output_type": "stream",
     "text": [
      "CPU times: total: 9.47 s\n",
      "Wall time: 2.97 s\n"
     ]
    }
   ],
   "source": [
    "%%time \n",
    "df_parquet = pd.read_parquet('df.parquet')"
   ]
  },
  {
   "cell_type": "code",
   "execution_count": 13,
   "id": "5c531ffd",
   "metadata": {},
   "outputs": [
    {
     "name": "stdout",
     "output_type": "stream",
     "text": [
      "CPU times: total: 6.16 s\n",
      "Wall time: 2.3 s\n"
     ]
    }
   ],
   "source": [
    "%%time \n",
    "df_feather = pd.read_feather('df.ftr')"
   ]
  }
 ],
 "metadata": {
  "kernelspec": {
   "display_name": "Python 3 (ipykernel)",
   "language": "python",
   "name": "python3"
  },
  "language_info": {
   "codemirror_mode": {
    "name": "ipython",
    "version": 3
   },
   "file_extension": ".py",
   "mimetype": "text/x-python",
   "name": "python",
   "nbconvert_exporter": "python",
   "pygments_lexer": "ipython3",
   "version": "3.11.8"
  }
 },
 "nbformat": 4,
 "nbformat_minor": 5
}
